{
 "cells": [
  {
   "cell_type": "code",
   "execution_count": null,
   "metadata": {},
   "outputs": [],
   "source": [
    "# default_exp core"
   ]
  },
  {
   "cell_type": "markdown",
   "metadata": {},
   "source": [
    "# Core\n",
    "> This is the core of flowsy. You can use this module to get recommendations for a playlist that your model has been trained on. The training process has been made easy with the **train module**."
   ]
  },
  {
   "cell_type": "code",
   "execution_count": null,
   "metadata": {},
   "outputs": [],
   "source": [
    "#hide\n",
    "from nbdev.showdoc import *\n",
    "from fastcore.test import *"
   ]
  },
  {
   "cell_type": "code",
   "execution_count": null,
   "metadata": {},
   "outputs": [],
   "source": [
    "#export\n",
    "from fastai.collab import *\n",
    "from fastai.tabular.all import *"
   ]
  },
  {
   "cell_type": "code",
   "execution_count": null,
   "metadata": {},
   "outputs": [],
   "source": [
    "#export\n",
    "class Recommender:\n",
    "    def __init__(self, p_learn, a_learn, playlists):\n",
    "        self.p_learn = p_learn\n",
    "        self.p_dls = p_learn.dls\n",
    "        self.a_learn = a_learn\n",
    "        self.a_dls = a_learn.dls\n",
    "        self.playlists = playlists\n",
    "        \n",
    "    def recommend(self, pid, sim_artists=4, sim_playlists=100, artist_variety=2, inc_artist=True, inc_similar=True):\n",
    "        artists = self.__get_artists(pid) #dict\n",
    "        similar_artists = self.__get_similar_artists(artists, sim_artists) #list\n",
    "        pids = self.__get_similar_playlists(pid, sim_playlists)\n",
    "        rankings = self.__get_rankings(pids)\n",
    "        if(inc_artist):\n",
    "            self.__inc_ranking_artist(rankings, artists)\n",
    "        if(inc_similar):\n",
    "            self.__inc_ranking_similar_artist(rankings, similar_artists)\n",
    "        filtered_rankings = self.__remove_duplicates(rankings, pid)\n",
    "        filtered_rankings.sort(key=lambda x: x.rating, reverse=True)\n",
    "        top_track_uris = self.__limit_artists(filtered_rankings, artist_variety)\n",
    "        return top_track_uris\n",
    "        \n",
    "    def __get_artists(self, pid):\n",
    "        artists = {}\n",
    "        artist_uris = list(self.playlists.loc[self.playlists['pid'] == pid]['artist_uri'])\n",
    "        for artist_uri in artist_uris:\n",
    "            artists[artist_uri] = artist_uris.count(artist_uri)\n",
    "        return artists\n",
    "    \n",
    "    def __get_similar_artists(self, artists, sim_artists):\n",
    "        similar_artists = []\n",
    "        artist_factors = self.a_learn.model.i_weight.weight\n",
    "        for artist_uri in artists:\n",
    "            idx = self.a_dls.classes['artist_uri'].o2i[artist_uri]\n",
    "            distances = nn.CosineSimilarity(dim=1)(artist_factors, artist_factors[idx][None])\n",
    "            idxs = distances.argsort(descending=True)[1:sim_artists]\n",
    "            similar_artist_uris = list(self.a_dls.classes['artist_uri'][idxs])\n",
    "            similar_artists.extend(similar_artist_uris)\n",
    "            \n",
    "        similar_artists_filtered = [similar_artist for similar_artist in similar_artists if similar_artist not in artists]\n",
    "        return similar_artists_filtered\n",
    "    \n",
    "    def __get_similar_playlists(self, pid, sim_playlists):\n",
    "        playlist_factors = self.p_learn.model.u_weight.weight\n",
    "        idx = self.p_dls.classes['pid'].o2i[pid]\n",
    "        distances = nn.CosineSimilarity(dim=1)(playlist_factors, playlist_factors[idx][None])\n",
    "        idxs = distances.argsort(descending=True)[1:sim_playlists]\n",
    "        return list(self.p_dls.classes['pid'][idxs])\n",
    "        \n",
    "    def __get_rankings(self, pids):\n",
    "        rankings = []\n",
    "        count = 1\n",
    "        for p in pids:\n",
    "            track_uris = list(self.playlists.loc[self.playlists['pid'] == p]['track_uri'])\n",
    "            artist_uris = list(self.playlists.loc[self.playlists['pid'] == p]['artist_uri'])\n",
    "            for track_uri, artist_uri in zip(track_uris, artist_uris):\n",
    "                ranking = Ranking(track_uri, artist_uri, count, p)\n",
    "                rankings.append(ranking)\n",
    "            if(count > 0):\n",
    "                count -= 0.05\n",
    "        return rankings\n",
    "    \n",
    "    def __inc_ranking_artist(self, rankings, artists):\n",
    "        for ranking in rankings:\n",
    "            if ranking.artist_uri in artists:\n",
    "                ranking.rating = ranking.rating + sigmoid(artists[ranking.artist_uri])\n",
    "            \n",
    "    def __inc_ranking_similar_artist(self, rankings, similar_artists):\n",
    "        for ranking in rankings:\n",
    "            if ranking.artist_uri in similar_artists:\n",
    "                ranking.rating = ranking.rating + 1\n",
    "                \n",
    "    def __remove_duplicates(self, rankings, pid):\n",
    "        unique_rankings = list(set(rankings))\n",
    "        \n",
    "        tracks_of_playlist = list(self.playlists.loc[self.playlists['pid'] == pid]['track_uri'])\n",
    "        return list([unique_ranking for unique_ranking in unique_rankings if not unique_ranking.track_uri in tracks_of_playlist])\n",
    "    \n",
    "    def __limit_artists(self, rankings, artist_variety):\n",
    "        top_track_uris = []\n",
    "        for ranking in rankings:\n",
    "            count = sum(i_ranking.artist_uri == ranking.artist_uri for i_ranking in rankings)\n",
    "            if(count < artist_variety):\n",
    "                top_track_uris.append(ranking.track_uri)\n",
    "        return top_track_uris"
   ]
  },
  {
   "cell_type": "code",
   "execution_count": null,
   "metadata": {},
   "outputs": [
    {
     "data": {
      "text/markdown": [
       "<h4 id=\"Recommender.recommend\" class=\"doc_header\"><code>Recommender.recommend</code><a href=\"__main__.py#L10\" class=\"source_link\" style=\"float:right\">[source]</a></h4>\n",
       "\n",
       "> <code>Recommender.recommend</code>(**`pid`**, **`sim_artists`**=*`4`*, **`sim_playlists`**=*`100`*, **`artist_variety`**=*`2`*, **`inc_artist`**=*`True`*, **`inc_similar`**=*`True`*)\n",
       "\n"
      ],
      "text/plain": [
       "<IPython.core.display.Markdown object>"
      ]
     },
     "metadata": {},
     "output_type": "display_data"
    }
   ],
   "source": [
    "show_doc(Recommender.recommend)"
   ]
  },
  {
   "cell_type": "code",
   "execution_count": null,
   "metadata": {},
   "outputs": [],
   "source": [
    "#export\n",
    "class Ranking:\n",
    "    def __init__(self, track_uri, artist_uri, rating, pid):\n",
    "        self.track_uri = track_uri\n",
    "        self.artist_uri = artist_uri\n",
    "        self.rating = rating\n",
    "        self.pid = pid\n",
    "\n",
    "    def __eq__(self, other):\n",
    "        return self.track_uri == other.track_uri\n",
    "\n",
    "    def __hash__(self):\n",
    "        return hash(('track_uri', self.track_uri))"
   ]
  },
  {
   "cell_type": "code",
   "execution_count": null,
   "metadata": {},
   "outputs": [],
   "source": [
    "#export\n",
    "def sigmoid(x):\n",
    "    return 2 * (1 / (1 + math.exp(-x)) - 0.5)"
   ]
  },
  {
   "cell_type": "code",
   "execution_count": null,
   "metadata": {},
   "outputs": [],
   "source": []
  }
 ],
 "metadata": {
  "kernelspec": {
   "display_name": "Python 3",
   "language": "python",
   "name": "python3"
  }
 },
 "nbformat": 4,
 "nbformat_minor": 2
}
