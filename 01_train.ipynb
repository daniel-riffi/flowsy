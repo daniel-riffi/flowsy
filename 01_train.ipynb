{
 "cells": [
  {
   "cell_type": "code",
   "execution_count": null,
   "metadata": {},
   "outputs": [],
   "source": [
    "# default_exp train"
   ]
  },
  {
   "cell_type": "markdown",
   "metadata": {},
   "source": [
    "# Train\n",
    "> You can use this module to train your models required for recommendation. In order to create an instance of the **Recommender** class of the **core module**, you will need to create an artist learner and a playlist learner."
   ]
  },
  {
   "cell_type": "code",
   "execution_count": null,
   "metadata": {},
   "outputs": [],
   "source": [
    "#export\n",
    "from fastai.collab import *\n",
    "from fastai.tabular.all import *"
   ]
  },
  {
   "cell_type": "code",
   "execution_count": null,
   "metadata": {},
   "outputs": [],
   "source": [
    "#export\n",
    "def train(dataframe, item_name, lr=5e-3, cycles=1):\n",
    "    dls = CollabDataLoaders.from_df(dataframe, item_name=item_name, bs=64)\n",
    "    learn = collab_learner(dls, n_factors=50, y_range=(0,1.5))\n",
    "    learn.fit_one_cycle(cycles, lr)\n",
    "    return learn"
   ]
  },
  {
   "cell_type": "code",
   "execution_count": null,
   "metadata": {},
   "outputs": [],
   "source": [
    "#export\n",
    "def export_learner(learn, path, fname):\n",
    "    learn.path = path\n",
    "    learn.export(fname=fname)"
   ]
  }
 ],
 "metadata": {
  "kernelspec": {
   "display_name": "Python 3",
   "language": "python",
   "name": "python3"
  }
 },
 "nbformat": 4,
 "nbformat_minor": 4
}
