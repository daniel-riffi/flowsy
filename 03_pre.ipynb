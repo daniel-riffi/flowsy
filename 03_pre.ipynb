{
 "cells": [
  {
   "cell_type": "code",
   "execution_count": null,
   "metadata": {},
   "outputs": [],
   "source": [
    "# default_exp pre"
   ]
  },
  {
   "cell_type": "markdown",
   "metadata": {},
   "source": [
    "# Pre\n",
    "> This module is the basis of flowsy. Before you do anything, you need to convert the **Spotify Million Playlist Dataset** into a proper format. This can be achieved using the methods that are provied in this module."
   ]
  },
  {
   "cell_type": "code",
   "execution_count": null,
   "metadata": {},
   "outputs": [],
   "source": [
    "#export\n",
    "import json\n",
    "import csv\n",
    "import pandas as pd"
   ]
  },
  {
   "cell_type": "code",
   "execution_count": null,
   "metadata": {},
   "outputs": [],
   "source": [
    "#export\n",
    "def convert_playlists_x_tracks(path_base, path_save, n_playlists=10000):\n",
    "    song_playlist_rows = []\n",
    "    for i in range(0, n_playlists, 1000):\n",
    "        path = f'{path_base}\\mpd.slice.{i}-{i+999}.json'\n",
    "        d = json.load(open(path, 'r'))\n",
    "        mpd_slice = pd.DataFrame.from_dict(d['playlists'], orient='columns')\n",
    "        for index, row in mpd_slice.iterrows():\n",
    "            for track in row['tracks']:\n",
    "                song_playlist_rows.append([row['pid'], track['track_uri'], 1, row['name'], track['track_name'], track['artist_uri'], track['artist_name']])\n",
    "    mpd_df = pd.DataFrame(song_playlist_rows, columns=['pid', 'track_uri', 'rating', 'playlist_name', 'track_name', 'artist_uri','artist_name'])\n",
    "    mpd_df.to_csv(f'{path_save}\\mpd_slice_0-{n_playlists-1}.csv', index=False)\n",
    "    return mpd_df"
   ]
  },
  {
   "cell_type": "code",
   "execution_count": null,
   "metadata": {},
   "outputs": [],
   "source": [
    "#export\n",
    "def convert_playlists_x_artists(path_base, path_save, n_playlists=10000):\n",
    "    artist_playlist_rows = []\n",
    "    for i in range(0, n_playlists, 1000):\n",
    "        path = f'{path_base}\\mpd.slice.{i}-{i+999}.json'\n",
    "        d = json.load(open(path, 'r'))\n",
    "        mpd_slice = pd.DataFrame.from_dict(d['playlists'], orient='columns')\n",
    "        for index, row in mpd_slice.iterrows():\n",
    "            for track in row['tracks']:\n",
    "                artist_playlist_rows.append([row['pid'], track['artist_uri'], 1, row['name'], track['artist_name'], track['track_uri'], track['track_name']])\n",
    "    mpd_df = pd.DataFrame(artist_playlist_rows, columns=['pid', 'artist_uri', 'rating', 'playlist_name', 'artist_name', 'track_uri', 'track_name'])\n",
    "    mpd_df.to_csv(f'{path_save}\\playlists_x_artists_0-{n_playlists-1}.csv', index=False)\n",
    "    return mpd_df"
   ]
  }
 ],
 "metadata": {
  "kernelspec": {
   "display_name": "Python 3",
   "language": "python",
   "name": "python3"
  }
 },
 "nbformat": 4,
 "nbformat_minor": 4
}
